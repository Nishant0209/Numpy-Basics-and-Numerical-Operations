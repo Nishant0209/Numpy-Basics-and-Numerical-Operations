{
 "cells": [
  {
   "cell_type": "markdown",
   "metadata": {},
   "source": [
    "# Numpy Exercise  <img src = \"numpy1.png\">"
   ]
  },
  {
   "cell_type": "markdown",
   "metadata": {},
   "source": [
    "#### 1. Create a numpy array with the number of elements equals your age. The value of array elements is a random number between 10 to your age "
   ]
  },
  {
   "cell_type": "code",
   "execution_count": 62,
   "metadata": {},
   "outputs": [
    {
     "name": "stdout",
     "output_type": "stream",
     "text": [
      "Random numbers: [13 18 21 24 21 18 19 14 23 16 13 12 15 10 16 14 17 22 14 10 11 19 19 20]\n"
     ]
    }
   ],
   "source": [
    "#Solution\n",
    "import numpy as np\n",
    "age=np.random.randint(10,25,size=24)\n",
    "print('Random numbers:',age)"
   ]
  },
  {
   "cell_type": "markdown",
   "metadata": {},
   "source": [
    "#### 2. Create a numpy array between 1 to 50 with the span(space) of 2 and print the length of the array"
   ]
  },
  {
   "cell_type": "code",
   "execution_count": 113,
   "metadata": {},
   "outputs": [
    {
     "name": "stdout",
     "output_type": "stream",
     "text": [
      "The length of the array is 25\n"
     ]
    }
   ],
   "source": [
    "# Solution\n",
    "sol2=np.arange(1,50,2)\n",
    "print('The length of the array is',len(sol2))"
   ]
  },
  {
   "cell_type": "markdown",
   "metadata": {},
   "source": [
    "#### 3. Create an equally spaced numpy array with 27 elements between 4 and 7 "
   ]
  },
  {
   "cell_type": "code",
   "execution_count": 111,
   "metadata": {},
   "outputs": [
    {
     "name": "stdout",
     "output_type": "stream",
     "text": [
      "[4.         4.11538462 4.23076923 4.34615385 4.46153846 4.57692308\n",
      " 4.69230769 4.80769231 4.92307692 5.03846154 5.15384615 5.26923077\n",
      " 5.38461538 5.5        5.61538462 5.73076923 5.84615385 5.96153846\n",
      " 6.07692308 6.19230769 6.30769231 6.42307692 6.53846154 6.65384615\n",
      " 6.76923077 6.88461538 7.        ]\n"
     ]
    }
   ],
   "source": [
    "# Solution\n",
    "sol3=np.linspace(4,7,27)\n",
    "print(sol3)"
   ]
  },
  {
   "cell_type": "markdown",
   "metadata": {},
   "source": [
    "#### 4. Create a matrix of size (5 x 4) with random numbers and round off the each elements by only 2 fractional points."
   ]
  },
  {
   "cell_type": "code",
   "execution_count": 54,
   "metadata": {},
   "outputs": [
    {
     "name": "stdout",
     "output_type": "stream",
     "text": [
      "[[0.87 0.12 0.63 0.55]\n",
      " [0.59 0.84 0.82 0.46]\n",
      " [0.99 0.97 0.58 0.14]\n",
      " [0.55 0.2  0.59 0.37]\n",
      " [0.27 0.39 0.21 0.04]]\n"
     ]
    }
   ],
   "source": [
    "# Solution\n",
    "s=np.random.rand(5,4)\n",
    "sol4=np.round(s,2)\n",
    "print(sol4)"
   ]
  },
  {
   "cell_type": "markdown",
   "metadata": {},
   "source": [
    "#### 5. Create a matrix of size (5x5) with random integers between 5 to 15"
   ]
  },
  {
   "cell_type": "code",
   "execution_count": 58,
   "metadata": {},
   "outputs": [
    {
     "name": "stdout",
     "output_type": "stream",
     "text": [
      "[[15 11  7 10 14]\n",
      " [ 9  6  7 12  5]\n",
      " [13 13  9 15 12]\n",
      " [ 8 13  5  9 10]\n",
      " [13 13  9 13 12]]\n"
     ]
    }
   ],
   "source": [
    "# Solution\n",
    "sol5=np.random.randint(5,16,size=(5,5))\n",
    "print(sol5)"
   ]
  },
  {
   "cell_type": "markdown",
   "metadata": {},
   "source": [
    "#### 6. Create the one dimensional array of zeros of random length below 20 with the data type int32"
   ]
  },
  {
   "cell_type": "code",
   "execution_count": 75,
   "metadata": {},
   "outputs": [
    {
     "name": "stdout",
     "output_type": "stream",
     "text": [
      "[0 0 0 0 0 0 0 0 0 0 0 0 0 0 0 0 0 0] \n",
      "\n",
      "Dimension check:  1 \n",
      "\n",
      "Data type check:  int32\n"
     ]
    }
   ],
   "source": [
    "# Solution\n",
    "sol6=np.zeros([np.random.randint(20)],dtype='int32')\n",
    "print(sol6,'\\n')\n",
    "print('Dimension check: ',sol6.ndim,'\\n')\n",
    "print('Data type check: ',sol6.dtype)"
   ]
  },
  {
   "cell_type": "markdown",
   "metadata": {},
   "source": [
    "#### 7. Create a two dimensional array of ones of random row and column lengths with the data type of float32 "
   ]
  },
  {
   "cell_type": "code",
   "execution_count": 109,
   "metadata": {},
   "outputs": [
    {
     "name": "stdout",
     "output_type": "stream",
     "text": [
      "[[1. 1. 1.]\n",
      " [1. 1. 1.]] \n",
      "\n",
      "This is a 2 dimensional array\n",
      "\n",
      "This is of float32 data type\n"
     ]
    }
   ],
   "source": [
    "# Solution\n",
    "sol7=np.ones([np.random.randint(5),np.random.randint(5)],dtype='float32')\n",
    "print(sol7,'\\n')\n",
    "print('This is a',sol7.ndim,'dimensional array\\n')\n",
    "print('This is of',sol7.dtype,'data type')"
   ]
  },
  {
   "cell_type": "markdown",
   "metadata": {},
   "source": [
    "#### 8. Create a matrix exactly as same as shown below and print its shape, type and dtype\n",
    "<img src = \"np_mat1.png\">"
   ]
  },
  {
   "cell_type": "code",
   "execution_count": 121,
   "metadata": {},
   "outputs": [
    {
     "name": "stdout",
     "output_type": "stream",
     "text": [
      "Matrix: \n",
      " [[ 9 25 50 34 45]\n",
      " [ 3 34 34 65  2]\n",
      " [ 5  7  3 76  3]\n",
      " [ 7  8  6 54  6]\n",
      " [23 12  8  5  8]] \n",
      "\n",
      "The shape of given matrix is (5, 5) \n",
      "\n",
      "The type of given matrix is <class 'numpy.ndarray'> \n",
      "\n",
      "The data type of given matrix is int32\n"
     ]
    }
   ],
   "source": [
    "# Solution\n",
    "sol8=np.array([[9,25,50,34,45],\n",
    "              [3,34,34,65,2],\n",
    "              [5,7,3,76,3],\n",
    "              [7,8,6,54,6],\n",
    "              [23,12,8,5,8]])\n",
    "print('Matrix:','\\n',sol8,'\\n')\n",
    "print('The shape of given matrix is {a}'.format(a=sol8.shape),'\\n')\n",
    "print('The type of given matrix is {0}'.format(type(sol8)),'\\n')\n",
    "print('The data type of given matrix is',sol8.dtype)"
   ]
  },
  {
   "cell_type": "markdown",
   "metadata": {},
   "source": [
    "#### 9. Access the center pixel of the matrix defined in the question no 8 ( Don't enter the row and column index explicitely)"
   ]
  },
  {
   "cell_type": "code",
   "execution_count": 129,
   "metadata": {},
   "outputs": [
    {
     "name": "stdout",
     "output_type": "stream",
     "text": [
      "Matrix: \n",
      " [[ 9 25 50 34 45]\n",
      " [ 3 34 34 65  2]\n",
      " [ 5  7  3 76  3]\n",
      " [ 7  8  6 54  6]\n",
      " [23 12  8  5  8]]\n",
      "\n",
      "The central pixel of the matrix: 3\n"
     ]
    }
   ],
   "source": [
    "# Solution\n",
    "print('Matrix:','\\n',sol8)\n",
    "sol9=sol8[2,2]\n",
    "print()\n",
    "print('The central pixel of the matrix:',sol9)"
   ]
  },
  {
   "cell_type": "markdown",
   "metadata": {},
   "source": [
    "#### 10. Print the all the elements of 3rd row of the matrix"
   ]
  },
  {
   "cell_type": "code",
   "execution_count": 123,
   "metadata": {},
   "outputs": [
    {
     "name": "stdout",
     "output_type": "stream",
     "text": [
      "Matrix: \n",
      " [[ 9 25 50 34 45]\n",
      " [ 3 34 34 65  2]\n",
      " [ 5  7  3 76  3]\n",
      " [ 7  8  6 54  6]\n",
      " [23 12  8  5  8]]\n",
      "\n",
      "All the elements of 3rd row of the matrix: [ 5  7  3 76  3]\n"
     ]
    }
   ],
   "source": [
    "# Solution\n",
    "print('Matrix:','\\n',sol8)\n",
    "print()\n",
    "print('All the elements of 3rd row of the matrix:',sol8[2])\n",
    "\n"
   ]
  },
  {
   "cell_type": "markdown",
   "metadata": {},
   "source": [
    "#### 11. Print the all the elements of 4th columns of the matrix"
   ]
  },
  {
   "cell_type": "code",
   "execution_count": 128,
   "metadata": {},
   "outputs": [
    {
     "name": "stdout",
     "output_type": "stream",
     "text": [
      "Matrix: \n",
      " [[ 9 25 50 34 45]\n",
      " [ 3 34 34 65  2]\n",
      " [ 5  7  3 76  3]\n",
      " [ 7  8  6 54  6]\n",
      " [23 12  8  5  8]] \n",
      "\n",
      "All the elements of 4th columns of the matrix: [34 65 76 54  5]\n"
     ]
    }
   ],
   "source": [
    "# Solution\n",
    "print('Matrix:','\\n',sol8,'\\n')\n",
    "print('All the elements of 4th columns of the matrix:',sol8[:,3])"
   ]
  },
  {
   "cell_type": "markdown",
   "metadata": {},
   "source": [
    "#### 12. Print the 4 corner pixels of the matrix"
   ]
  },
  {
   "cell_type": "code",
   "execution_count": 127,
   "metadata": {},
   "outputs": [
    {
     "name": "stdout",
     "output_type": "stream",
     "text": [
      "Matrix: \n",
      " [[ 9 25 50 34 45]\n",
      " [ 3 34 34 65  2]\n",
      " [ 5  7  3 76  3]\n",
      " [ 7  8  6 54  6]\n",
      " [23 12  8  5  8]] \n",
      "\n",
      "The 4 corner pixels of the matrix: \n",
      " [[ 9 45]\n",
      " [23  8]]\n"
     ]
    }
   ],
   "source": [
    "# Solution\n",
    "print('Matrix:','\\n',sol8,'\\n')\n",
    "print('The 4 corner pixels of the matrix:','\\n',sol8[::4,::4])"
   ]
  },
  {
   "cell_type": "markdown",
   "metadata": {},
   "source": [
    "#### 13. Create three matrix m1,m2,m3 with the elements grouped in the figure below\n",
    "<img src = \"np_mat2.png\">"
   ]
  },
  {
   "cell_type": "code",
   "execution_count": 155,
   "metadata": {},
   "outputs": [
    {
     "name": "stdout",
     "output_type": "stream",
     "text": [
      "Matrix: \n",
      " [[ 9 25 50 34 45]\n",
      " [ 3 34 34 65  2]\n",
      " [ 5  7  3 76  3]\n",
      " [ 7  8  6 54  6]\n",
      " [23 12  8  5  8]] \n",
      "\n",
      "Submatrix m1:\n",
      " [[50 34]\n",
      " [34 65]] \n",
      "\n",
      "Submatrix m2:\n",
      " [[ 7  8]\n",
      " [23 12]] \n",
      "\n",
      "Submatrix m2:\n",
      " [[ 3 76  3]\n",
      " [ 6 54  6]\n",
      " [ 8  5  8]]\n"
     ]
    }
   ],
   "source": [
    "# Solution \n",
    "print('Matrix:','\\n',sol8,'\\n')\n",
    "m1=sol8[:2,2:4]\n",
    "m2=sol8[3:,:2]\n",
    "m3=sol8[2:,2:]\n",
    "print('Submatrix m1:\\n',m1,'\\n')\n",
    "print('Submatrix m2:\\n',m2,'\\n')\n",
    "print('Submatrix m2:\\n',m3)"
   ]
  },
  {
   "cell_type": "markdown",
   "metadata": {},
   "source": [
    "#### 14. Reshape all the three matrix segmented in the above task in to three  1-dimensional vector."
   ]
  },
  {
   "cell_type": "code",
   "execution_count": 156,
   "metadata": {},
   "outputs": [
    {
     "name": "stdout",
     "output_type": "stream",
     "text": [
      "[50 34 34 65]\n",
      "[ 7  8 23 12]\n",
      "[ 3 76  3  6 54  6  8  5  8]\n"
     ]
    }
   ],
   "source": [
    "# Solution\n",
    "s1=m1.ravel()\n",
    "s2=m2.ravel()\n",
    "s3=m3.ravel()\n",
    "print(s1)\n",
    "print(s2)\n",
    "print(s3)"
   ]
  },
  {
   "cell_type": "markdown",
   "metadata": {},
   "source": [
    "#### 15. Concatenate the matrix m1 and m2 in both vertical and horizontal direction"
   ]
  },
  {
   "cell_type": "code",
   "execution_count": 174,
   "metadata": {},
   "outputs": [
    {
     "name": "stdout",
     "output_type": "stream",
     "text": [
      "Submatrix m1:\n",
      " [[50 34]\n",
      " [34 65]] \n",
      "\n",
      "Submatrix m2:\n",
      " [[ 7  8]\n",
      " [23 12]] \n",
      "\n",
      "The vertical stack matrix of m1 and m2: \n",
      " [[50 34]\n",
      " [34 65]\n",
      " [ 7  8]\n",
      " [23 12]] \n",
      "\n",
      "The horizontal stack matrix of m1 and m2: \n",
      " [[50 34  7  8]\n",
      " [34 65 23 12]]\n"
     ]
    }
   ],
   "source": [
    "# Solution\n",
    "print('Submatrix m1:\\n',m1,'\\n')\n",
    "print('Submatrix m2:\\n',m2,'\\n')\n",
    "hd=np.concatenate((m1,m2),axis=1) #can also use hstack,vstack method\n",
    "vd=np.concatenate((m1,m2),axis=0)\n",
    "print('The vertical stack matrix of m1 and m2:','\\n',vd,'\\n')\n",
    "print('The horizontal stack matrix of m1 and m2:','\\n',hd)"
   ]
  },
  {
   "cell_type": "markdown",
   "metadata": {},
   "source": [
    "#### 16. Add, Subtract, multiply, divide the matrixes m1 and m2"
   ]
  },
  {
   "cell_type": "code",
   "execution_count": 177,
   "metadata": {},
   "outputs": [
    {
     "name": "stdout",
     "output_type": "stream",
     "text": [
      "Addition of m1,m2: \n",
      " [[57 42]\n",
      " [57 77]] \n",
      "\n",
      "Subtraction of m1,m2: \n",
      " [[43 26]\n",
      " [11 53]] \n",
      "\n",
      "Multiplication of m1,m2: \n",
      " [[350 272]\n",
      " [782 780]] \n",
      "\n",
      "Division of m1,m2: \n",
      " [[7.14285714 4.25      ]\n",
      " [1.47826087 5.41666667]]\n"
     ]
    }
   ],
   "source": [
    "# Solution\n",
    "print(\"Addition of m1,m2:\",'\\n',m1+m2,'\\n')\n",
    "print(\"Subtraction of m1,m2:\",'\\n',m1-m2,'\\n')\n",
    "print(\"Multiplication of m1,m2:\",'\\n',m1*m2,'\\n')\n",
    "print('Division of m1,m2:','\\n',m1/m2)"
   ]
  },
  {
   "cell_type": "markdown",
   "metadata": {},
   "source": [
    "#### 17. Add the m1 with m3 by removing the first row and last column of m3"
   ]
  },
  {
   "cell_type": "code",
   "execution_count": 203,
   "metadata": {},
   "outputs": [
    {
     "name": "stdout",
     "output_type": "stream",
     "text": [
      "m1:\n",
      " [[50 34]\n",
      " [34 65]] \n",
      "\n",
      "m3:\n",
      " [[ 3 76  3]\n",
      " [ 6 54  6]\n",
      " [ 8  5  8]] \n",
      "\n",
      "m3_new: \n",
      " [[ 6 54]\n",
      " [ 8  5]] \n",
      "\n",
      "addition of m1,m3_new:\n",
      " [[56 88]\n",
      " [42 70]]\n"
     ]
    }
   ],
   "source": [
    "# Solution\n",
    "print('m1:\\n',m1,'\\n')\n",
    "print('m3:\\n',m3,'\\n')\n",
    "m3r=np.delete(m3,0,axis=0)\n",
    "m3_new=np.delete(m3r,2,axis=1) # or apply m3_new=m3[1:,:2]\n",
    "print('m3_new:','\\n',m3_new,'\\n')\n",
    "print('addition of m1,m3_new:\\n',m1+m3_new)"
   ]
  },
  {
   "cell_type": "markdown",
   "metadata": {},
   "source": [
    "#### 18. Form the matrix m4 by concatenating (as a new row) the vector [me1, me2] with the matrix m1, where me1 and me2 are the mean values of each column on m1."
   ]
  },
  {
   "cell_type": "code",
   "execution_count": 249,
   "metadata": {},
   "outputs": [
    {
     "name": "stdout",
     "output_type": "stream",
     "text": [
      "m1:\n",
      " [[50 34]\n",
      " [34 65]]\n",
      "\n",
      "The mean values of 1st column of m1: 42.0 \n",
      "\n",
      "The mean values of 2nt column of m1: 49.5 \n",
      "\n",
      "The new row created from m1,m2: [42.  49.5] \n",
      "\n",
      "Converted 1-d row to 2-d for concatenating with m1: [[42.  49.5]] \n",
      "\n",
      "Result of concatenating m1 and mq:\n",
      "m4= \n",
      " [[50.  34. ]\n",
      " [34.  65. ]\n",
      " [42.  49.5]]\n"
     ]
    }
   ],
   "source": [
    "# Solution\n",
    "print('m1:\\n',m1)\n",
    "print()\n",
    "me1=np.mean(m1[:,0])\n",
    "print('The mean values of 1st column of m1:',me1,'\\n')\n",
    "me2=np.mean(m1[:,1])\n",
    "print('The mean values of 2nt column of m1:',me2,'\\n')\n",
    "mq=np.array([me1,me2])\n",
    "print('The new row created from m1,m2:',mq,'\\n')\n",
    "mq=mq[np.newaxis,:]\n",
    "print('Converted 1-d row to 2-d for concatenating with m1:',mq,'\\n')\n",
    "m4=np.concatenate((m1,mq),axis=0)\n",
    "print('''Result of concatenating m1 and mq:\\nm4=''','\\n',m4)"
   ]
  },
  {
   "cell_type": "markdown",
   "metadata": {},
   "source": [
    "#### 19. Perform the matrix multiplication between m3 and m4"
   ]
  },
  {
   "cell_type": "code",
   "execution_count": 266,
   "metadata": {},
   "outputs": [
    {
     "name": "stdout",
     "output_type": "stream",
     "text": [
      "The multiplication of matrix m3 and m4:\n",
      " [[2860.  5190.5]\n",
      " [2388.  4011. ]\n",
      " [ 906.   993. ]]\n"
     ]
    }
   ],
   "source": [
    "# Solution\n",
    "print('The multiplication of matrix m3 and m4:\\n',np.dot(m3,m4))#actually a dot product"
   ]
  },
  {
   "cell_type": "markdown",
   "metadata": {},
   "source": [
    "#### 20. Compute the maximum and minimum value of mean, variance, standard deviation for each row of matrix created in question number 8."
   ]
  },
  {
   "cell_type": "code",
   "execution_count": 445,
   "metadata": {},
   "outputs": [
    {
     "name": "stdout",
     "output_type": "stream",
     "text": [
      "The matrix of question 8 is:\n",
      " [[ 9 25 50 34 45]\n",
      " [ 3 34 34 65  2]\n",
      " [ 5  7  3 76  3]\n",
      " [ 7  8  6 54  6]\n",
      " [23 12  8  5  8]] \n",
      "\n",
      "The mean of each row of matrix: [32.6 27.6 18.8 16.2 11.2] \n",
      "\n",
      "The std dev of each row of matrix: [14.65 23.41 28.64 18.91  6.31] \n",
      "\n",
      "The variance of each row of matrix: [214.64 548.24 820.16 357.76  39.76] \n",
      "\n",
      "The minimum value of all mean: 11.2 \n",
      "\n",
      "The maximum value of all mean: 32.6 \n",
      "\n",
      "The minimum value of all std dev: 6.31 \n",
      "\n",
      "The maximum value of all std dev: 28.64 \n",
      "\n",
      "The minimum value of all variance: 39.76 \n",
      "\n",
      "The maximum value of all variance: 820.16 \n",
      "\n"
     ]
    }
   ],
   "source": [
    "# Solution\n",
    "print('The matrix of question 8 is:\\n',sol8,'\\n')\n",
    "me=np.mean(sol8,axis=1)\n",
    "print('The mean of each row of matrix:',me,'\\n')\n",
    "sd=np.std(sol8,axis=1)\n",
    "print('The std dev of each row of matrix:',np.round(sd,2),'\\n')\n",
    "vr=np.var(sol8,axis=1)\n",
    "print('The variance of each row of matrix:',np.round(vr,2),'\\n')\n",
    "minv1=np.min(me)\n",
    "print('The minimum value of all mean:',minv1,'\\n')\n",
    "maxv1=np.max(me)\n",
    "print('The maximum value of all mean:',maxv1,'\\n')\n",
    "minv2=np.min(sd)\n",
    "print('The minimum value of all std dev:',np.round(minv2,2),'\\n')\n",
    "maxv2=np.max(sd)\n",
    "print('The maximum value of all std dev:',np.round(maxv2,2),'\\n')\n",
    "minv3=np.min(vr)\n",
    "print('The minimum value of all variance:',np.round(minv3,2),'\\n')\n",
    "maxv3=np.max(vr)\n",
    "print('The maximum value of all variance:',np.round(maxv3,2),'\\n')"
   ]
  },
  {
   "cell_type": "markdown",
   "metadata": {},
   "source": [
    "#### 21. Compute the average and strike rate for each player and sort it decending way (seperately for avg and strike rate)\n",
    "<img src = 'crick1.png'>"
   ]
  },
  {
   "cell_type": "code",
   "execution_count": 431,
   "metadata": {},
   "outputs": [
    {
     "name": "stdout",
     "output_type": "stream",
     "text": [
      "Runs scored in 4 Matches:\n",
      " [['MSD:' '54' '60' '10' '65']\n",
      " ['Kohli:' '102' '2' '78' '32']\n",
      " ['Rohit:' '3' '110' '1' '92']\n",
      " ['Rahul:' '56' '6' '12' '42']\n",
      " ['Dhawan:' '12' '8' '22' '11']] \n",
      "\n",
      "Avg runs of each player: [47.25 53.5  51.5  29.   13.25] \n",
      "\n",
      "Actual runs with Avg runs of each player in descending order:\n",
      " [['Kohli:' '102' '2' '78' '32' '53.5']\n",
      " ['Rohit:' '3' '110' '1' '92' '51.5']\n",
      " ['MSD:' '54' '60' '10' '65' '47.25']\n",
      " ['Rahul:' '56' '6' '12' '42' '29.0']\n",
      " ['Dhawan:' '12' '8' '22' '11' '13.25']]\n"
     ]
    }
   ],
   "source": [
    "# Solution \n",
    "runs=np.array([['MSD:',54,60,10,65],['Kohli:',102,2,78,32],['Rohit:',3,110,1,92],\n",
    "               ['Rahul:',56,6,12,42],['Dhawan:',12,8,22,11]])\n",
    "print('Runs scored in 4 Matches:\\n',runs,'\\n')\n",
    "runs1=runs[:,1:]\n",
    "runs2=np.asarray(runs1,np.int64)\n",
    "#print('Runs scored in 4 Matches in Integer Format:\\n',runs2,'\\n')\n",
    "avg_runs=np.mean(runs2,axis=1)\n",
    "print('Avg runs of each player:',avg_runs,'\\n')\n",
    "avg_r=avg_runs.reshape(5,1) \n",
    "runs_with_avg=np.concatenate((runs,avg_r),axis=1)\n",
    "#print(\"The runs scored with average:\\n\",runs_with_avg,'\\n')\n",
    "arg_sort=np.argsort(runs_with_avg[:,5])\n",
    "sorted_table=runs_with_avg[arg_sort,:][::-1]\n",
    "print('Actual runs with Avg runs of each player in descending order:\\n',sorted_table)"
   ]
  },
  {
   "cell_type": "code",
   "execution_count": 444,
   "metadata": {},
   "outputs": [
    {
     "name": "stdout",
     "output_type": "stream",
     "text": [
      "Balls faced in 4 Matches:\n",
      " [['MSD:' '50' '42' '22' '78']\n",
      " ['Kohli:' '95' '8' '65' '43']\n",
      " ['Rohit:' '9' '100' '7' '101']\n",
      " ['Rahul:' '27' '3' '11' '31']\n",
      " ['Dhawan:' '24' '20' '36' '27']] \n",
      "\n",
      "Avg strike rate of each player: [ 94.91  81.7   62.18 163.    47.96] \n",
      "\n",
      "Actual balls faced with Avg str of each player in descending order:\n",
      " [['Rahul:' '27' '3' '11' '31' '163.0']\n",
      " ['MSD:' '50' '42' '22' '78' '94.91']\n",
      " ['Kohli:' '95' '8' '65' '43' '81.7']\n",
      " ['Rohit:' '9' '100' '7' '101' '62.18']\n",
      " ['Dhawan:' '24' '20' '36' '27' '47.96']]\n"
     ]
    }
   ],
   "source": [
    "balls=np.array([['MSD:',50,42,22,78],['Kohli:',95,8,65,43],['Rohit:',9,100,7,101],\n",
    "               ['Rahul:',27,3,11,31],['Dhawan:',24,20,36,27]])\n",
    "print('Balls faced in 4 Matches:\\n',balls,'\\n')\n",
    "balls1=balls[:,1:]\n",
    "balls2=np.asarray(balls1,np.int64)\n",
    "#print('Balls faced in 4 Matches in Integer Format:\\n',balls2,'\\n')\n",
    "strike_rate=runs2/balls2*100\n",
    "#print(strike_rate)\n",
    "avg_strike_rate=np.round(np.mean(strike_rate,axis=1),2)\n",
    "print('Avg strike rate of each player:',avg_strike_rate,'\\n')\n",
    "avg_strike_rate1=avg_strike_rate.reshape(5,1)\n",
    "#print(avg_strike_rate1)\n",
    "strike_rate_table=np.concatenate((balls,avg_strike_rate1),axis=1)\n",
    "#print(strike_rate_table)\n",
    "arg=avg_strike_rate.argsort()\n",
    "final_list_avg=strike_rate_table[arg,:][::-1]\n",
    "print('Actual balls faced with Avg str of each player in descending order:\\n',final_list_avg)"
   ]
  },
  {
   "cell_type": "markdown",
   "metadata": {},
   "source": [
    "#### 22. The students mark was recorded in a numpy array: marks = np.array([65,84,47,56,89,98,48,77,80,39]).  Cutoff for pass is 50 marks. Write the logic to print the number of students passed and failed. "
   ]
  },
  {
   "cell_type": "code",
   "execution_count": 459,
   "metadata": {},
   "outputs": [
    {
     "name": "stdout",
     "output_type": "stream",
     "text": [
      "The number of students passed is: 7\n",
      "The number of students failed is: 3\n"
     ]
    }
   ],
   "source": [
    "# Solution\n",
    "marks=np.array([65,84,47,56,89,98,48,77,80,39])\n",
    "passed=len(marks[marks>50])\n",
    "print('The number of students passed is:',passed)\n",
    "fail=len(marks[marks<50])\n",
    "print('The number of students failed is:',fail)"
   ]
  },
  {
   "cell_type": "markdown",
   "metadata": {},
   "source": [
    "#### 23. The class incharge decided to give a mercy mark of 5 for those who scored between 45 and 49. Also the bonus of 5 marks awarded to the students who scored more than 80. Print all the student marks and compute the increase in the pass percentage of class. Any score more than 100 must be recorded as only 100."
   ]
  },
  {
   "cell_type": "code",
   "execution_count": 554,
   "metadata": {},
   "outputs": [
    {
     "name": "stdout",
     "output_type": "stream",
     "text": [
      "Original marks: [65 84 47 56 89 98 48 77 80 39] \n",
      "\n",
      "Updated marks: [ 65  89  52  56  94 100  53  77  85  39] \n",
      "\n",
      "The increase in the pass percentage of class: 20.0\n"
     ]
    }
   ],
   "source": [
    "# Solution\n",
    "update_marks=marks.copy()\n",
    "\n",
    "mercy_ind=np.where((update_marks>=45)&(update_marks<=49))\n",
    "update_marks[mercy_ind]=update_marks[mercy_ind]+5\n",
    "\n",
    "bonus_ind=np.where((update_marks>=80)&(update_marks<=95))\n",
    "update_marks[bonus_ind]=update_marks[bonus_ind]+5\n",
    "\n",
    "bonus_ind1=np.where(update_marks>95)\n",
    "update_marks[bonus_ind1]=100\n",
    "\n",
    "print('Original marks:',marks,'\\n')\n",
    "print('Updated marks:',update_marks,'\\n')\n",
    "\n",
    "old_pass_count=len(marks[marks>50])/len(marks)*100\n",
    "new_pass_count=len(update_marks[update_marks>50])/len(marks)*100\n",
    "increase_pass_percentage=(new_pass_count)-(old_pass_count)\n",
    "print('The increase in the pass percentage of class:',increase_pass_percentage)"
   ]
  },
  {
   "cell_type": "markdown",
   "metadata": {},
   "source": [
    "#### 24. Print the time taken for performing the following operation using list and numpy array\n",
    "####       (x(i)^2 +8) / y(i),   where x and y are real integers from 1 to 60000"
   ]
  },
  {
   "cell_type": "code",
   "execution_count": 574,
   "metadata": {},
   "outputs": [
    {
     "name": "stdout",
     "output_type": "stream",
     "text": [
      "The time taken to compute this in list is:\n",
      "347 ns ± 8.21 ns per loop (mean ± std. dev. of 7 runs, 1000000 loops each)\n",
      "\n",
      "The time taken to compute this in Numpy Array is:\n",
      "220 µs ± 9.39 µs per loop (mean ± std. dev. of 7 runs, 1000 loops each)\n"
     ]
    }
   ],
   "source": [
    "# Solution\n",
    "list1=range(1,60001)\n",
    "print('The time taken to compute this in list is:')\n",
    "%timeit ((x**2+8)/y for (x,y) in list1)\n",
    "print()\n",
    "x=np.arange(1,60001)\n",
    "y=np.arange(1,60001)\n",
    "print('The time taken to compute this in Numpy Array is:')\n",
    "%timeit (x**2+8)/y"
   ]
  }
 ],
 "metadata": {
  "kernelspec": {
   "display_name": "Python 3",
   "language": "python",
   "name": "python3"
  },
  "language_info": {
   "codemirror_mode": {
    "name": "ipython",
    "version": 3
   },
   "file_extension": ".py",
   "mimetype": "text/x-python",
   "name": "python",
   "nbconvert_exporter": "python",
   "pygments_lexer": "ipython3",
   "version": "3.7.3"
  }
 },
 "nbformat": 4,
 "nbformat_minor": 2
}
